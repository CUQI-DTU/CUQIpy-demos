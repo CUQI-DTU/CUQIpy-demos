{
 "cells": [
  {
   "cell_type": "markdown",
   "id": "1fdf2327-7fec-4329-b4e3-9ad36fcc4425",
   "metadata": {},
   "source": [
    "# Data structures and geometries"
   ]
  },
  {
   "cell_type": "code",
   "execution_count": null,
   "id": "4a880434-7330-4201-a5d3-b6eb9215e146",
   "metadata": {},
   "outputs": [],
   "source": [
    "import sys\n",
    "sys.path.append(\"../../cuqipy\")\n",
    "import cuqi\n",
    "import numpy as np\n",
    "from cuqi.samples import CUQIarray\n",
    "from cuqi.samples import Samples"
   ]
  },
  {
   "cell_type": "markdown",
   "id": "368cddb3-03d9-4503-a6c0-30e418789e2b",
   "metadata": {},
   "source": [
    "# Fundamental data structure is CUQIarray:"
   ]
  },
  {
   "cell_type": "code",
   "execution_count": null,
   "id": "eaa3705f-47a0-481b-98ea-207597de8287",
   "metadata": {},
   "outputs": [],
   "source": [
    "v = CUQIarray([0,1,2,3,4,5,6,7,8])"
   ]
  },
  {
   "cell_type": "code",
   "execution_count": null,
   "id": "bc00d2fd-5c0b-4463-89d6-7b6efcb29dfd",
   "metadata": {},
   "outputs": [],
   "source": [
    "v"
   ]
  },
  {
   "cell_type": "markdown",
   "id": "eb79333a-ab96-495b-951f-21abea0db937",
   "metadata": {},
   "source": [
    "### TODO Should a default geometry be assigned to allow plotting? Gives error currently"
   ]
  },
  {
   "cell_type": "code",
   "execution_count": null,
   "id": "ecf04107-0c28-4d7c-8610-ae3a431d8c72",
   "metadata": {},
   "outputs": [],
   "source": [
    "v.plot()"
   ]
  },
  {
   "cell_type": "markdown",
   "id": "961cb827-d598-4a6f-a2cd-9417c9be08a7",
   "metadata": {},
   "source": [
    "## Being subclassed from NumPy array, all NumPy operations can be used directly on CUQIarrays"
   ]
  },
  {
   "cell_type": "markdown",
   "id": "27235a7f-435e-4304-8a75-2b03416a6da0",
   "metadata": {},
   "source": [
    "### Algebra"
   ]
  },
  {
   "cell_type": "code",
   "execution_count": null,
   "id": "dcbb11ea-0cf5-487f-935e-1b5900c411f3",
   "metadata": {},
   "outputs": [],
   "source": [
    "2*v +3 - np.sqrt(v) + np.sin(np.pi*v)*np.exp(-0.5*v)"
   ]
  },
  {
   "cell_type": "markdown",
   "id": "74db1569-705a-42a2-a661-2cb05608b9ca",
   "metadata": {},
   "source": [
    "### Logical operations, logical indexing and assignment:"
   ]
  },
  {
   "cell_type": "code",
   "execution_count": null,
   "id": "9d161822-0da5-4810-b08b-03a517263615",
   "metadata": {},
   "outputs": [],
   "source": [
    "v[v < 5] = 0"
   ]
  },
  {
   "cell_type": "code",
   "execution_count": null,
   "id": "bbeeba5e-5439-4e61-be36-8533a96f6ba9",
   "metadata": {},
   "outputs": [],
   "source": [
    "v"
   ]
  },
  {
   "cell_type": "markdown",
   "id": "8984afc5-8e11-43da-921e-6ec1be9f5005",
   "metadata": {},
   "source": [
    "### TODO reduction operations such as .min() produce an array of different size than geometry. Do we need to do something about that?"
   ]
  },
  {
   "cell_type": "code",
   "execution_count": null,
   "id": "f0d676c3-887b-46da-8cc6-73aac4546bb2",
   "metadata": {},
   "outputs": [],
   "source": [
    "v.min()"
   ]
  },
  {
   "cell_type": "markdown",
   "id": "f149a23c-4b4c-4736-b70d-b7c5ca472458",
   "metadata": {},
   "source": [
    "### CUQI array can be equipped with geometry"
   ]
  },
  {
   "cell_type": "code",
   "execution_count": null,
   "id": "7cfdfb74-b343-488d-ac41-f95d33a3b024",
   "metadata": {},
   "outputs": [],
   "source": [
    "geo = cuqi.geometry._DefaultGeometry(v.__len__())"
   ]
  },
  {
   "cell_type": "code",
   "execution_count": null,
   "id": "a24580c2-08c2-4088-b261-f15c96beb56b",
   "metadata": {},
   "outputs": [],
   "source": [
    "v.geometry = geo"
   ]
  },
  {
   "cell_type": "code",
   "execution_count": null,
   "id": "7a4fc36d-8d4c-484d-aec5-e570a701babf",
   "metadata": {},
   "outputs": [],
   "source": [
    "v"
   ]
  },
  {
   "cell_type": "markdown",
   "id": "f2047930-79bf-45c4-806e-96927bb644b2",
   "metadata": {},
   "source": [
    "### CUQIarray has a plot method"
   ]
  },
  {
   "cell_type": "code",
   "execution_count": null,
   "id": "148f3bb9-3e47-465f-a5f8-c75deb4253ed",
   "metadata": {},
   "outputs": [],
   "source": [
    "v.plot()"
   ]
  },
  {
   "cell_type": "markdown",
   "id": "7dd9dfa5-28b7-4560-a602-353db21338af",
   "metadata": {},
   "source": [
    "# Geometry"
   ]
  },
  {
   "cell_type": "markdown",
   "id": "de7d847f-36ee-409a-9093-6ef17493ea8a",
   "metadata": {},
   "source": [
    "### List which geometries are available:\n",
    "- DefaultGeometry\n",
    "- Continuous1D\n",
    "- Contionous2D\n",
    "- Image2D\n",
    "- Discrete\n",
    "- MappedGeometry\n",
    "- ? WrappedGeometry\n",
    "- KLExpansion\n",
    "- KLExpansion_full"
   ]
  },
  {
   "cell_type": "markdown",
   "id": "c4ce1f61-5767-43e4-a9bb-db134196a133",
   "metadata": {},
   "source": [
    "### If changing the geometry, the plot method will be updated:"
   ]
  },
  {
   "cell_type": "code",
   "execution_count": null,
   "id": "44ab1815-0c68-47d7-baf3-e86ebbd66d91",
   "metadata": {},
   "outputs": [],
   "source": [
    "v.geometry = cuqi.geometry.Continuous2D((3,3))"
   ]
  },
  {
   "cell_type": "code",
   "execution_count": null,
   "id": "3305d245-259c-45c6-82ae-fa8a6cf11c6e",
   "metadata": {},
   "outputs": [],
   "source": [
    "v.plot()"
   ]
  },
  {
   "cell_type": "markdown",
   "id": "e13aff6f-84c0-44e2-992c-b87fdd225d8e",
   "metadata": {},
   "source": [
    "### Parameters and function values"
   ]
  },
  {
   "cell_type": "code",
   "execution_count": null,
   "id": "f6102e6d-05a2-4056-89e2-5bcbcf9be8af",
   "metadata": {},
   "outputs": [],
   "source": [
    "v"
   ]
  },
  {
   "cell_type": "code",
   "execution_count": null,
   "id": "076a0913-a65e-492d-a704-ee97bfe5a6b3",
   "metadata": {},
   "outputs": [],
   "source": [
    "v.is_par"
   ]
  },
  {
   "cell_type": "code",
   "execution_count": null,
   "id": "5a1dc74d-ce69-4402-9faa-7ef6736413ae",
   "metadata": {},
   "outputs": [],
   "source": [
    "v.shape"
   ]
  },
  {
   "cell_type": "code",
   "execution_count": null,
   "id": "298e8bd4-6b70-4f3e-bea1-e023248e02a9",
   "metadata": {},
   "outputs": [],
   "source": [
    "vf = v.funvals"
   ]
  },
  {
   "cell_type": "code",
   "execution_count": null,
   "id": "bbec4448-0927-466b-a786-ef8ef9129592",
   "metadata": {},
   "outputs": [],
   "source": [
    "vf"
   ]
  },
  {
   "cell_type": "code",
   "execution_count": null,
   "id": "cf3e6fef-adbe-4f13-b7d0-99602e8a5074",
   "metadata": {},
   "outputs": [],
   "source": [
    "vf.is_par"
   ]
  },
  {
   "cell_type": "markdown",
   "id": "da23f8b8-18d1-4e71-b800-3d7d1904fd36",
   "metadata": {},
   "source": [
    "### TODO Is this shape correct?  Will be changed to par_shape?"
   ]
  },
  {
   "cell_type": "code",
   "execution_count": null,
   "id": "fbbed63e-23e6-4415-9276-ad792790d3a3",
   "metadata": {},
   "outputs": [],
   "source": [
    "vf.shape"
   ]
  },
  {
   "cell_type": "code",
   "execution_count": null,
   "id": "6e604cce-7e09-48d4-a8bb-e076b8164518",
   "metadata": {},
   "outputs": [],
   "source": [
    "vf.parameters"
   ]
  },
  {
   "cell_type": "markdown",
   "id": "7b7c7ede-903a-466a-9ada-da8c6f455ad2",
   "metadata": {},
   "source": [
    "### How/whether to get to par2fun, fun2par"
   ]
  },
  {
   "cell_type": "code",
   "execution_count": null,
   "id": "10f3b689-4984-4f56-aa0a-654a5f8ed09c",
   "metadata": {},
   "outputs": [],
   "source": [
    "geo.par2fun(v)"
   ]
  },
  {
   "cell_type": "code",
   "execution_count": null,
   "id": "8ae97be4-a2e5-44f4-afc9-a1ad55a42788",
   "metadata": {},
   "outputs": [],
   "source": [
    "geo.fun2par(vf)"
   ]
  },
  {
   "cell_type": "markdown",
   "id": "be9efdcf-9ae0-4791-a14c-4a2b44fadabf",
   "metadata": {},
   "source": [
    "#### TODO would a MappedGeometry or something else show the difference more clearly"
   ]
  },
  {
   "cell_type": "markdown",
   "id": "e85fc46e-66e2-4fb0-b258-c9957aae44a7",
   "metadata": {},
   "source": [
    "## A bit strange to add parameter and funvals versions. The order determines whether is_par true or false:"
   ]
  },
  {
   "cell_type": "code",
   "execution_count": null,
   "id": "b05a66b3-d522-4525-bf57-77b98fd50f08",
   "metadata": {},
   "outputs": [],
   "source": [
    "vf + v"
   ]
  },
  {
   "cell_type": "markdown",
   "id": "6657fcf2-eccc-4ece-b746-3ebd920ba509",
   "metadata": {},
   "source": [
    "# Samples object\n",
    "### Describe Samples object here as CUQIarray with multiple data points/list of CUQIarrays?"
   ]
  },
  {
   "cell_type": "code",
   "execution_count": null,
   "id": "e782dfae-0f62-4b13-9d22-f536284da62d",
   "metadata": {},
   "outputs": [],
   "source": [
    "s = Samples(np.random.rand(9, 100), geometry=cuqi.geometry.Image2D((3,3)))"
   ]
  },
  {
   "cell_type": "markdown",
   "id": "c988f955-6eb5-47e0-aba8-5dfa8dd8a6f7",
   "metadata": {},
   "source": [
    "## Printing, repr of Samples is not very informative"
   ]
  },
  {
   "cell_type": "code",
   "execution_count": null,
   "id": "08ea8d3c-d8ba-4dc0-9d72-9613697a2ee6",
   "metadata": {},
   "outputs": [],
   "source": [
    "print(s)"
   ]
  },
  {
   "cell_type": "code",
   "execution_count": null,
   "id": "33a790a2-6897-42d2-9909-f3938bd36a2b",
   "metadata": {},
   "outputs": [],
   "source": [
    "s.geometry"
   ]
  },
  {
   "cell_type": "markdown",
   "id": "8b733ea6-28b8-4f29-9885-caaf1903d420",
   "metadata": {},
   "source": [
    "## Similar to CUQIarray can plot selected samples, to be given as list/numpy array, using the plotting method given by geometry"
   ]
  },
  {
   "cell_type": "code",
   "execution_count": null,
   "id": "06267365-9783-4624-9a3e-85dadb5c2809",
   "metadata": {},
   "outputs": [],
   "source": [
    "s.plot([0,10,20,30,40])"
   ]
  },
  {
   "cell_type": "markdown",
   "id": "68faf79a-a33d-4c45-bb5d-33f695744ae9",
   "metadata": {},
   "source": [
    "## TODO What else to do with Samples object, that is not yet analyzing actual samples, like plot_ci"
   ]
  },
  {
   "cell_type": "markdown",
   "id": "72bc5cde-2532-415b-b5de-c608aab95702",
   "metadata": {},
   "source": [
    "Cannot slice Samples, would expect to get CUQIarray."
   ]
  },
  {
   "cell_type": "code",
   "execution_count": null,
   "id": "844f71c9-cc68-4194-adf8-ef8c870b0889",
   "metadata": {},
   "outputs": [],
   "source": [
    "s[10,:]"
   ]
  },
  {
   "cell_type": "markdown",
   "id": "a0e79285-810f-4e75-ac4f-4e2647bac73b",
   "metadata": {},
   "source": [
    "# From Exercise02 on geometries"
   ]
  },
  {
   "cell_type": "code",
   "execution_count": null,
   "id": "d8c2003f-ab3a-4ec1-9d23-ef639453f92e",
   "metadata": {},
   "outputs": [],
   "source": [
    "true_mu = np.array([5, 3, 1])\n",
    "Z = cuqi.distribution.Gaussian(mean=true_mu, std=true_mu)"
   ]
  },
  {
   "cell_type": "markdown",
   "id": "72b04634-c8a4-4200-961c-242b1c0f41bc",
   "metadata": {},
   "source": [
    "By default no particular structure or space is assumed of the parameters. If we want to express that parameters constitute for example a 2D image or are a set of discrete named parameters we can specify this by means of a CUQIpy geometry. \n",
    "\n",
    "By default distributions contain a default (trivial) geometry."
   ]
  },
  {
   "cell_type": "code",
   "execution_count": null,
   "id": "cd46f06a-76ea-46bc-8f07-99203d6cad95",
   "metadata": {},
   "outputs": [],
   "source": [
    "Z.geometry"
   ]
  },
  {
   "cell_type": "markdown",
   "id": "536ab42c-aa03-4750-83c8-0dcbc851ec7b",
   "metadata": {},
   "source": [
    "We may equip the distribution with a different geometry, either when creating it, or afterwards. For example if the five parameters represent labelled quantities such as height, width, depth, weight and density we can use a `Discrete` geometry:"
   ]
  },
  {
   "cell_type": "code",
   "execution_count": null,
   "id": "c9892db4-c107-4eab-bb83-4f00b4461cd9",
   "metadata": {},
   "outputs": [],
   "source": [
    "geom = cuqi.geometry.Discrete(['height','width','depth'])"
   ]
  },
  {
   "cell_type": "markdown",
   "id": "c9b57650-a89d-4025-907c-676de29bd72b",
   "metadata": {},
   "source": [
    "We can update the distribution's geometry and generate some new samples:"
   ]
  },
  {
   "cell_type": "code",
   "execution_count": null,
   "id": "26647071-9bfd-4003-8f74-f3d493bcb483",
   "metadata": {},
   "outputs": [],
   "source": [
    "Z.geometry = geom"
   ]
  },
  {
   "cell_type": "code",
   "execution_count": null,
   "id": "6ea9f80c-adc3-4dc7-a927-d99be026d61d",
   "metadata": {},
   "outputs": [],
   "source": [
    "sZ2 = Z.sample(100)"
   ]
  },
  {
   "cell_type": "markdown",
   "id": "bcbdbfad-2631-472d-beed-f2ac006cef92",
   "metadata": {},
   "source": [
    "The samples will now know about their new `Discrete` geometry and the plotting style will be changed:"
   ]
  },
  {
   "cell_type": "code",
   "execution_count": null,
   "id": "99528728-4791-428f-a221-d7721454eda8",
   "metadata": {},
   "outputs": [],
   "source": [
    "sZ2.plot();"
   ]
  },
  {
   "cell_type": "markdown",
   "id": "b3a0b71f-af8f-45ae-86fb-94b99a6e6ada",
   "metadata": {},
   "source": [
    "The credibility interval plot style is also updated to show errorbars for the `Discrete` geometry:"
   ]
  },
  {
   "cell_type": "code",
   "execution_count": null,
   "id": "f25e75de-6801-435f-a832-ac70de01a971",
   "metadata": {},
   "outputs": [],
   "source": [
    "sZ2.plot_ci(95, exact=true_mu)"
   ]
  },
  {
   "cell_type": "markdown",
   "id": "b079d467-88a3-4311-b2bc-3927741e417f",
   "metadata": {},
   "source": [
    "And the similarly in the chain plot the legend reflects the particular labels:"
   ]
  },
  {
   "cell_type": "code",
   "execution_count": null,
   "id": "84e598bd-8001-430b-a3f8-f770c0a24d1f",
   "metadata": {},
   "outputs": [],
   "source": [
    "sZ2.plot_chain([0,2])"
   ]
  },
  {
   "cell_type": "markdown",
   "id": "d91d5e89-18b7-4f4d-8a6d-66849a171efc",
   "metadata": {},
   "source": [
    "Another use of geometry is to represent 1D or 2D versions of the same distribution (prior). A Gaussian Markov Random Field (GMRF) can be used in 1 or 2 spatial dimensions, which is represented using `Continuous1D` and `Continuous2D` geometries:"
   ]
  },
  {
   "cell_type": "code",
   "execution_count": null,
   "id": "0666f4b4-b301-4ba8-bbe8-b31c035391ff",
   "metadata": {},
   "outputs": [],
   "source": [
    "N = 100     # number of pixels\n",
    "dom = 2     # 1D or 2D domain\n",
    "\n",
    "x = np.linspace(0,1,N)\n",
    "\n",
    "if (dom == 1):\n",
    "    geometry = cuqi.geometry.Continuous1D(x)\n",
    "elif (dom == 2):\n",
    "    geometry = cuqi.geometry.Continuous2D((x, x))"
   ]
  },
  {
   "cell_type": "markdown",
   "id": "016a246a-7124-4d84-94f8-19b73b32d814",
   "metadata": {},
   "source": [
    "In this example in 1D there will be N parameters and in 2D there will be N^2 parameters. We can check the number of parameters of the geometry as well as its type:"
   ]
  },
  {
   "cell_type": "code",
   "execution_count": null,
   "id": "a383bf5f-cb71-47a4-bf62-a22a6861f4a9",
   "metadata": {},
   "outputs": [],
   "source": [
    "geometry.dim"
   ]
  },
  {
   "cell_type": "code",
   "execution_count": null,
   "id": "3b8a1d92-ac08-44ba-a787-37658d951d32",
   "metadata": {},
   "outputs": [],
   "source": [
    "type(geometry)"
   ]
  },
  {
   "cell_type": "markdown",
   "id": "8f82b407-b4cd-48bb-a1c1-435359b0511a",
   "metadata": {},
   "source": [
    "We can now specify a GMRF distribution (with some chosen mean, precision, boundary conditions etc.) The same exact code will work in 1D and 2D due to the geometry:"
   ]
  },
  {
   "cell_type": "code",
   "execution_count": null,
   "id": "5987f2aa-5ec7-4dfc-9eb3-c9da2bb8647a",
   "metadata": {},
   "outputs": [],
   "source": [
    "cuqi.distribution.GaussianPrec?"
   ]
  },
  {
   "cell_type": "code",
   "execution_count": null,
   "id": "1c51099a-75a2-4678-99ae-2b5c4f7fd01f",
   "metadata": {},
   "outputs": [],
   "source": [
    "mean = np.zeros(geometry.dim)\n",
    "prec = 4\n",
    "pX = cuqi.distribution.GMRF(mean, prec, N, physical_dim=dom, bc_type='zero', geometry=geometry)\n",
    "pX = cuqi.distribution.GaussianCov(np.zeros(geometry.dim), cov=2, geometry=geometry)"
   ]
  },
  {
   "cell_type": "markdown",
   "id": "b96d69f5-9ff5-488b-9b95-6ba411001368",
   "metadata": {},
   "source": [
    "With the distribution set up, we are ready to generate some samples"
   ]
  },
  {
   "cell_type": "code",
   "execution_count": null,
   "id": "908d0ad9-9c89-4b58-ad9d-0e9ea0bd7f3b",
   "metadata": {},
   "outputs": [],
   "source": [
    "# call method to sample\n",
    "sampleX = pX.sample(50)"
   ]
  },
  {
   "cell_type": "code",
   "execution_count": null,
   "id": "e1f82afe-f156-402e-8738-304bc61097b4",
   "metadata": {},
   "outputs": [],
   "source": [
    "sampleX.shape"
   ]
  },
  {
   "cell_type": "markdown",
   "id": "e28a0ae5-a246-4bf4-9191-ffe9545a3be4",
   "metadata": {},
   "source": [
    "We plot a couple of samples:"
   ]
  },
  {
   "cell_type": "code",
   "execution_count": null,
   "id": "f414a552-9f40-4cae-b264-4c0a8951248b",
   "metadata": {},
   "outputs": [],
   "source": [
    "sampleX.plot()   "
   ]
  },
  {
   "cell_type": "markdown",
   "id": "7ef4f0b1-e389-4e48-b65d-c0fce80ae6dc",
   "metadata": {},
   "source": [
    "#### Try yourself (optional):  \n",
    " - Go back and change `dom` to 2 to get the 2D case and rerun the subsequent cells.\n",
    " - Play with the number of pixels `N` as well as parameters of the GMRF and see the effect on the samples."
   ]
  },
  {
   "cell_type": "code",
   "execution_count": null,
   "id": "ad9bd94d-c287-4b0c-9323-e9a2d09b032b",
   "metadata": {},
   "outputs": [],
   "source": []
  }
 ],
 "metadata": {
  "kernelspec": {
   "display_name": "Python [conda env:cuqipy_torch_pyro_py39] *",
   "language": "python",
   "name": "conda-env-cuqipy_torch_pyro_py39-py"
  },
  "language_info": {
   "codemirror_mode": {
    "name": "ipython",
    "version": 3
   },
   "file_extension": ".py",
   "mimetype": "text/x-python",
   "name": "python",
   "nbconvert_exporter": "python",
   "pygments_lexer": "ipython3",
   "version": "3.9.12"
  }
 },
 "nbformat": 4,
 "nbformat_minor": 5
}
