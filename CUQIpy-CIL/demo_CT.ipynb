{
 "cells": [
  {
   "cell_type": "markdown",
   "id": "abc7d37a-b237-44ea-993c-13cada60ed9a",
   "metadata": {},
   "source": [
    "We want to specify a phantom and scan geometry, noise model and generate some noisy data of known noise level. This means user can change parameters to play with different setups and investigate influence of parameters such as noise level easily.\n",
    "\n",
    "Notebook should illustrate basics of how to set up and work with CT problems with CUQIpy-CIL.\n",
    "\n",
    "Should show case/overview what is available incl \n",
    "- Parallel and fan-beam geometries.\n",
    "- Models and test problems.\n",
    "\n",
    "Set up and sample a Bayesian problem.  Probably not Gibbs.\n",
    "\n",
    "Could also illustrate some of CIL's tools, e.g. show_geometry, islicer\n",
    "\n",
    "Include some suggestions for exploration.\n",
    " - experiment to avoid inverse crime?\n",
    "\n",
    "Things to vary:\n",
    "- noise type added, and which data distribution to use, effect of wrong data distribution\n",
    "- phantom smooth or piecewise constant, effect of wrong prior\n",
    "- full or limited angle"
   ]
  },
  {
   "cell_type": "markdown",
   "id": "c8a6d1af-4a11-4ebe-a042-1cb7d1ee0136",
   "metadata": {},
   "source": [
    "## Demo 00 simple"
   ]
  },
  {
   "cell_type": "code",
   "execution_count": null,
   "id": "777cd91a-57d3-4b3d-9268-3c81d820f97d",
   "metadata": {},
   "outputs": [],
   "source": [
    "# %%\n",
    "import cuqi\n",
    "import cuqipy_cil\n",
    "import numpy as np\n",
    "import matplotlib.pyplot as plt"
   ]
  },
  {
   "cell_type": "code",
   "execution_count": null,
   "id": "98e4cfb2-8b24-417d-9ae6-ecce59726d4f",
   "metadata": {},
   "outputs": [],
   "source": [
    "# Load a CT forward model and data from testproblem\n",
    "A, y_data, info = cuqipy_cil.testproblem.ParallelBeam2DProblem.get_components(\n",
    "    im_size=(128, 128),\n",
    "    det_count=128,\n",
    "    angles=np.linspace(0, np.pi, 180),\n",
    "    phantom=\"shepp-logan\"\n",
    ")"
   ]
  },
  {
   "cell_type": "code",
   "execution_count": null,
   "id": "939979b0-ff50-48fa-a5c2-f3b2043b8c7a",
   "metadata": {},
   "outputs": [],
   "source": [
    "# Set up Bayesian model\n",
    "x = cuqi.distribution.GaussianCov(np.zeros(A.domain_dim), 1) # x ~ N(0, 1)\n",
    "y = cuqi.distribution.GaussianCov(A@x, 0.05**2)              # y ~ N(Ax, 0.05^2)"
   ]
  },
  {
   "cell_type": "code",
   "execution_count": null,
   "id": "c30705d0-8fb8-4886-aaeb-dd99230b9dcd",
   "metadata": {},
   "outputs": [],
   "source": [
    "# Set up Bayesian Problem\n",
    "BP = cuqi.problem.BayesianProblem(y, x)\n",
    "BP.set_data(y=y_data)"
   ]
  },
  {
   "cell_type": "code",
   "execution_count": null,
   "id": "6763b11a-e160-4330-b39b-ff396814a8ae",
   "metadata": {},
   "outputs": [],
   "source": [
    "# Sample from the posterior\n",
    "samples = BP.sample_posterior(200)"
   ]
  },
  {
   "cell_type": "code",
   "execution_count": null,
   "id": "1d667164-088c-48f8-9ee2-f1e4f4d11199",
   "metadata": {},
   "outputs": [],
   "source": [
    "# Analyze the samples\n",
    "info.exactSolution.plot(); plt.title(\"Exact solution\"); plt.show()\n",
    "y_data.plot(); plt.title(\"Data\"); plt.show()\n",
    "samples.plot_mean(); plt.title(\"Posterior mean\"); plt.show()\n",
    "samples.plot_std(); plt.title(\"Posterior standard deviation\"); plt.show()"
   ]
  },
  {
   "cell_type": "code",
   "execution_count": null,
   "id": "550ffd0f-e577-4866-92f2-dc7c33503022",
   "metadata": {},
   "outputs": [],
   "source": [
    "samples.plot()"
   ]
  },
  {
   "cell_type": "markdown",
   "id": "fbaf06b9-f9dc-49dd-bdf6-ff3cced29eb5",
   "metadata": {},
   "source": [
    "## Demo 01"
   ]
  },
  {
   "cell_type": "code",
   "execution_count": null,
   "id": "4c749059-65f6-4a82-a6df-b014a867985c",
   "metadata": {},
   "outputs": [],
   "source": [
    "# %%\n",
    "# Load cuqi and other packages\n",
    "import cuqi\n",
    "import numpy as np\n",
    "import matplotlib.pyplot as plt"
   ]
  },
  {
   "cell_type": "code",
   "execution_count": null,
   "id": "3aacd821-334e-4f68-b56f-6f1d983404b4",
   "metadata": {},
   "outputs": [],
   "source": [
    "#Specifically load the CT library components\n",
    "from cuqipy_cil.model import ParallelBeam2DModel, FanBeam2DModel\n",
    "from cuqipy_cil.testproblem import ParallelBeam2DProblem"
   ]
  },
  {
   "cell_type": "code",
   "execution_count": null,
   "id": "06e826de-635d-48db-81ba-0e7ea42abd47",
   "metadata": {},
   "outputs": [],
   "source": [
    "#%% Define CT model conveniently with cuqi\n",
    "model = ParallelBeam2DModel() #CT model with parallel-beam and default values\n",
    "model= FanBeam2DModel() #CT model with fan-beam and default values"
   ]
  },
  {
   "cell_type": "markdown",
   "id": "ec6c1883-2bd3-4b13-98d1-dca51f489572",
   "metadata": {},
   "source": [
    "## Can also illustrate CIL tools:"
   ]
  },
  {
   "cell_type": "code",
   "execution_count": null,
   "id": "a9afab74-6561-4fa6-8e9b-57e7f29da457",
   "metadata": {},
   "outputs": [],
   "source": [
    "import cil"
   ]
  },
  {
   "cell_type": "code",
   "execution_count": null,
   "id": "0180fa13-58c3-4766-9560-301583d95138",
   "metadata": {},
   "outputs": [],
   "source": [
    "from cil.utilities.display import show2D, show_geometry"
   ]
  },
  {
   "cell_type": "code",
   "execution_count": null,
   "id": "000ec526-9118-41b6-88e4-e8adb4a44d4e",
   "metadata": {},
   "outputs": [],
   "source": [
    "show_geometry(model.acquisition_geometry)"
   ]
  },
  {
   "cell_type": "code",
   "execution_count": null,
   "id": "2063f5ca-2d37-4358-b3f5-85958ece3f41",
   "metadata": {},
   "outputs": [],
   "source": [
    "# Extract parameters from model\n",
    "N   = model.domain_geometry.fun_shape[0]\n",
    "n   = model.domain_geometry.par_dim #N*N\n",
    "p,q = model.range_geometry.fun_shape\n",
    "m   = model.range_geometry.par_dim  #p*q"
   ]
  },
  {
   "cell_type": "code",
   "execution_count": null,
   "id": "7fbb3353-f35b-4ba7-a716-5926654546de",
   "metadata": {},
   "outputs": [],
   "source": [
    "# %% Phantom\n",
    "# Get exact phantom\n",
    "x_exact = cuqi.data.shepp_logan(size = N)"
   ]
  },
  {
   "cell_type": "code",
   "execution_count": null,
   "id": "b8950229-dbf0-4384-95c0-e55acb0f0f84",
   "metadata": {},
   "outputs": [],
   "source": [
    "x_exact"
   ]
  },
  {
   "cell_type": "code",
   "execution_count": null,
   "id": "f1b820b9-1fb8-461b-aa38-2473dcaa50ea",
   "metadata": {},
   "outputs": [],
   "source": [
    "# Phantom in cuqi array with geometry\n",
    "x_exact = cuqi.samples.CUQIarray(x_exact, is_par=False, geometry=model.domain_geometry)"
   ]
  },
  {
   "cell_type": "code",
   "execution_count": null,
   "id": "32329020-c96e-4211-a563-51cf5efbe86c",
   "metadata": {},
   "outputs": [],
   "source": [
    "x_exact.plot()"
   ]
  },
  {
   "cell_type": "code",
   "execution_count": null,
   "id": "00194534-9dcd-49eb-b107-76c4fbbf0e97",
   "metadata": {},
   "outputs": [],
   "source": [
    "# Plot phantom\n",
    "plt.figure()\n",
    "x_exact.plot()\n",
    "plt.colorbar()\n",
    "#%% Generate exact data and plot it\n",
    "b_exact = model.forward(x_exact)\n",
    "plt.figure()\n",
    "b_exact.plot()\n",
    "plt.colorbar()"
   ]
  },
  {
   "cell_type": "code",
   "execution_count": null,
   "id": "28bf4ee0-0963-4f5a-95ef-fed85ccdbb0e",
   "metadata": {},
   "outputs": [],
   "source": [
    "#%% Plot back projection\n",
    "plt.figure()\n",
    "model.adjoint(b_exact).plot()\n",
    "plt.colorbar()"
   ]
  },
  {
   "cell_type": "code",
   "execution_count": null,
   "id": "977ab54d-8f40-4f5e-8254-b52c470741de",
   "metadata": {},
   "outputs": [],
   "source": [
    "#%% Define Gaussian prior and data distribution\n",
    "prior      = cuqi.distribution.GaussianCov(np.zeros(n), 0.5, geometry=model.domain_geometry, name=\"x\")\n",
    "data_dist  = cuqi.distribution.GaussianCov(model, 0.1, geometry=model.range_geometry, name=\"y\")"
   ]
  },
  {
   "cell_type": "code",
   "execution_count": null,
   "id": "16fae2e8-a3fc-4e33-a983-fd3e121dbe20",
   "metadata": {},
   "outputs": [],
   "source": [
    "#%% Generate noisy data using the data distribution from x_exact\n",
    "data=data_dist(x_exact).sample()\n",
    "plt.figure()\n",
    "data.plot()\n",
    "plt.colorbar()"
   ]
  },
  {
   "cell_type": "code",
   "execution_count": null,
   "id": "680648be-0f03-4773-adf0-5dbc45494ea4",
   "metadata": {},
   "outputs": [],
   "source": [
    "#%% Construct likelihood function\n",
    "likelihood = data_dist.to_likelihood(data)"
   ]
  },
  {
   "cell_type": "code",
   "execution_count": null,
   "id": "4d0b0474-a1a3-4e21-80cc-809281028c4b",
   "metadata": {},
   "outputs": [],
   "source": [
    "#%% Posterior distribution\n",
    "posterior = cuqi.distribution.Posterior(likelihood, prior)"
   ]
  },
  {
   "cell_type": "code",
   "execution_count": null,
   "id": "6e79db7c-20ad-4fab-93dc-639205d98b76",
   "metadata": {},
   "outputs": [],
   "source": [
    "#%% Sample posterior\n",
    "sampler = cuqi.sampler.Linear_RTO(posterior)\n",
    "samples = sampler.sample(500,100)"
   ]
  },
  {
   "cell_type": "code",
   "execution_count": null,
   "id": "d096068a-f473-44a7-a194-9893e7f4ebd0",
   "metadata": {},
   "outputs": [],
   "source": [
    "#%% Plot mean\n",
    "plt.figure()\n",
    "samples.plot_mean()\n",
    "plt.colorbar()\n",
    "#%% Plot std\n",
    "plt.figure()\n",
    "samples.plot_std()\n",
    "plt.colorbar()"
   ]
  },
  {
   "cell_type": "code",
   "execution_count": null,
   "id": "e11054b1-9287-4c99-9500-947811c43f60",
   "metadata": {},
   "outputs": [],
   "source": [
    "#%% Plot posterior samples\n",
    "plt.figure()\n",
    "samples.plot()\n",
    "plt.colorbar()"
   ]
  },
  {
   "cell_type": "code",
   "execution_count": null,
   "id": "7daa0e3f-8588-4d9c-82a9-f4e39ccace9a",
   "metadata": {},
   "outputs": [],
   "source": [
    "#%% High level test problem\n",
    "BP = ParallelBeam2DProblem(prior=prior, noise_std=0.01, phantom=\"grains\")\n",
    "\n",
    "cuqi.config.MAX_DIM_INV = 1000 # Change max dim to a lower number such that the problem will be sampled using LinearRTO\n",
    "samples_BP = BP.sample_posterior(500)\n",
    "\n",
    "plt.figure()\n",
    "samples_BP.plot_mean()\n",
    "plt.colorbar()\n",
    "\n",
    "plt.figure()\n",
    "samples_BP.plot_std()\n",
    "plt.colorbar()\n",
    "\n",
    "# %%"
   ]
  },
  {
   "cell_type": "code",
   "execution_count": null,
   "id": "23379275-a90b-4cda-8e73-45d0af778e86",
   "metadata": {},
   "outputs": [],
   "source": []
  },
  {
   "cell_type": "markdown",
   "id": "14aa4bef-9f55-4094-9a57-c61a8d8e5152",
   "metadata": {},
   "source": [
    "## Demo 2"
   ]
  },
  {
   "cell_type": "code",
   "execution_count": null,
   "id": "2f25549b-87b9-439e-9cae-1f26ad3743fd",
   "metadata": {},
   "outputs": [],
   "source": [
    "# %%\n",
    "import numpy as np\n",
    "from cuqi.distribution import Cauchy_diff\n",
    "from cuqipy_cil.testproblem import ParallelBeam2DProblem"
   ]
  },
  {
   "cell_type": "code",
   "execution_count": null,
   "id": "0890e151-f588-448c-8f8c-16c137920a39",
   "metadata": {},
   "outputs": [],
   "source": [
    "# Computed Tomography\n",
    "TP = ParallelBeam2DProblem(\n",
    "    im_size=(256, 256),\n",
    "    det_count=256,\n",
    "    angles=np.linspace(0, np.pi, 180),\n",
    "    phantom=\"shepp-logan\",\n",
    ")"
   ]
  },
  {
   "cell_type": "code",
   "execution_count": null,
   "id": "77546d10-1dd8-46cc-a19e-4bbe004f46da",
   "metadata": {},
   "outputs": [],
   "source": [
    "# Cauchy difference prior\n",
    "TP.prior = Cauchy_diff(\n",
    "    location=np.zeros(TP.model.domain_dim),\n",
    "    scale=0.01,\n",
    "    physical_dim=2,\n",
    ")"
   ]
  },
  {
   "cell_type": "code",
   "execution_count": null,
   "id": "ff67ff04-cc1a-42ed-bba1-7cf0a352b300",
   "metadata": {},
   "outputs": [],
   "source": [
    "# Sample posterior with automatic sampler choice\n",
    "samples = TP.sample_posterior(200)"
   ]
  },
  {
   "cell_type": "code",
   "execution_count": null,
   "id": "da16e379-fa01-435d-82db-902e4340720a",
   "metadata": {},
   "outputs": [],
   "source": [
    "# Plot sample mean and ci\n",
    "samples.plot_ci()"
   ]
  },
  {
   "cell_type": "markdown",
   "id": "d1a78ae8-9fd7-4af2-a0c9-632ea7e9562f",
   "metadata": {},
   "source": [
    "## Ideas for exploration:\n",
    "1. Set up a few-projection case, for example 40 projections over 180 degrees. Explore different priors.\n",
    "2. Set up a limited angle case, for example instead of full 180-degree data, use 135, 90 or even 45 degree data, and explore different the effect of different priors on the solution and its uncertainty.\n",
    "3. Try with a smooth phantom instead of a piecewise constant.\n",
    "4. Infer noise level and/or prior precision through Gibbs."
   ]
  },
  {
   "cell_type": "markdown",
   "id": "e5fa5a0d-f61b-4a40-8a07-152e53b1d71d",
   "metadata": {},
   "source": [
    "# FIPS dataset"
   ]
  },
  {
   "cell_type": "code",
   "execution_count": null,
   "id": "5c4208da-c0f7-4465-938f-27d63369bff8",
   "metadata": {},
   "outputs": [],
   "source": [
    "ls"
   ]
  },
  {
   "cell_type": "code",
   "execution_count": null,
   "id": "e8a45e03-2b09-4f8f-a38c-f2c0d632cd64",
   "metadata": {},
   "outputs": [],
   "source": [
    "import scipy\n",
    "import numpy as np\n",
    "import cil\n",
    "from cil.framework import AcquisitionData, AcquisitionGeometry\n",
    "from cil.utilities.display import show2D, show_geometry\n",
    "from cil.recon import FDK\n",
    "from cil.plugins.astra.processors import FBP"
   ]
  },
  {
   "cell_type": "code",
   "execution_count": null,
   "id": "a590af88-34c0-48c6-b530-14ce62bd1c0a",
   "metadata": {},
   "outputs": [],
   "source": [
    "sinogram = scipy.io.loadmat('sinogram.mat')['sinogram'].T"
   ]
  },
  {
   "cell_type": "code",
   "execution_count": null,
   "id": "19b1f5cc-59ad-43ae-ace9-a817e64f5a06",
   "metadata": {},
   "outputs": [],
   "source": [
    "sinogram = sinogram[0:360, 0:2221]"
   ]
  },
  {
   "cell_type": "code",
   "execution_count": null,
   "id": "7d4c7a66-3c3a-4075-8a1c-d3dc73f428ec",
   "metadata": {},
   "outputs": [],
   "source": [
    "sinogram.shape"
   ]
  },
  {
   "cell_type": "code",
   "execution_count": null,
   "id": "330d4bd9-52d1-4e5a-bb61-93594e8df4cf",
   "metadata": {},
   "outputs": [],
   "source": [
    "num_angles = sinogram.shape[0]\n",
    "num_dets = sinogram.shape[1]\n",
    "source_center = 54\n",
    "source_detector = 63\n",
    "det_pixel_size = 12/2240"
   ]
  },
  {
   "cell_type": "code",
   "execution_count": null,
   "id": "ebaf0553-5a9f-4636-a0b0-c576755fc99d",
   "metadata": {},
   "outputs": [],
   "source": [
    "angles = np.linspace(0,360,num_angles,endpoint=False)"
   ]
  },
  {
   "cell_type": "code",
   "execution_count": null,
   "id": "d7fd4524-5f6b-478c-ac1b-d586cb15b648",
   "metadata": {},
   "outputs": [],
   "source": [
    "ag = AcquisitionGeometry.create_Cone2D(source_position=[0,-source_center], \n",
    "                                      detector_position=[0,source_detector-source_center])\\\n",
    "    .set_panel(num_pixels=num_dets, pixel_size=det_pixel_size)\\\n",
    "    .set_angles(angles=-angles, angle_unit='degree')"
   ]
  },
  {
   "cell_type": "code",
   "execution_count": null,
   "id": "dd6b00df-e1d5-4b84-a8f9-da1144be0918",
   "metadata": {},
   "outputs": [],
   "source": [
    "data = AcquisitionData(sinogram, geometry=ag)"
   ]
  },
  {
   "cell_type": "code",
   "execution_count": null,
   "id": "ef583793-7db5-4d41-920b-12ad51343c03",
   "metadata": {},
   "outputs": [],
   "source": [
    "show_geometry(ag)"
   ]
  },
  {
   "cell_type": "code",
   "execution_count": null,
   "id": "52233df1-1fd7-421a-ba4b-de0c814db02a",
   "metadata": {},
   "outputs": [],
   "source": [
    "ig = data.geometry.get_ImageGeometry()"
   ]
  },
  {
   "cell_type": "code",
   "execution_count": null,
   "id": "c46241a2-66af-43a1-b3e7-77a138c73915",
   "metadata": {},
   "outputs": [],
   "source": [
    "print(ig)"
   ]
  },
  {
   "cell_type": "code",
   "execution_count": null,
   "id": "7f3e921e-c601-467d-84e1-9cad64216167",
   "metadata": {},
   "outputs": [],
   "source": [
    "from cil.plugins.astra import ProjectionOperator\n",
    "from cil.optimisation.algorithms import CGLS"
   ]
  },
  {
   "cell_type": "code",
   "execution_count": null,
   "id": "137d2b57-db50-4857-8386-abb4a0b3d481",
   "metadata": {},
   "outputs": [],
   "source": [
    "AP = ProjectionOperator(ig,ag,device='cpu')"
   ]
  },
  {
   "cell_type": "code",
   "execution_count": null,
   "id": "8cd83d07-dba4-41dc-925f-039855f4b835",
   "metadata": {},
   "outputs": [],
   "source": [
    "cgls = CGLS(operator=AP, data=data, tolerance=-1, max_iteration=1000)"
   ]
  },
  {
   "cell_type": "code",
   "execution_count": null,
   "id": "925d0c24-ba56-442b-bfac-21a2d764db97",
   "metadata": {},
   "outputs": [],
   "source": [
    "cgls.run(5)"
   ]
  },
  {
   "cell_type": "code",
   "execution_count": null,
   "id": "42978bf8-3474-4efb-9df5-7421fefeb899",
   "metadata": {},
   "outputs": [],
   "source": [
    "show2D(cgls.solution)"
   ]
  },
  {
   "cell_type": "code",
   "execution_count": null,
   "id": "4c492e97-68e3-477d-b612-39b3a2fe8913",
   "metadata": {},
   "outputs": [],
   "source": [
    "AP.adjoint(data)"
   ]
  },
  {
   "cell_type": "code",
   "execution_count": null,
   "id": "152f122a-99cb-4df2-9634-71a5e690d5aa",
   "metadata": {},
   "outputs": [],
   "source": [
    "data.shape"
   ]
  },
  {
   "cell_type": "code",
   "execution_count": null,
   "id": "5b2b04c9-f269-4e34-8c2d-0b8a013a0984",
   "metadata": {},
   "outputs": [],
   "source": [
    "ig"
   ]
  },
  {
   "cell_type": "code",
   "execution_count": null,
   "id": "e16a11af-d4d0-4124-9039-7b112e881e0f",
   "metadata": {},
   "outputs": [],
   "source": [
    "print(ig)"
   ]
  },
  {
   "cell_type": "code",
   "execution_count": null,
   "id": "cf98b00b-acdb-44d2-958f-1ccfdfd830dc",
   "metadata": {},
   "outputs": [],
   "source": [
    "2221**2"
   ]
  },
  {
   "cell_type": "code",
   "execution_count": null,
   "id": "140cc08c-534d-4da8-bbbb-f8ddf63e04a2",
   "metadata": {},
   "outputs": [],
   "source": [
    "from cil.processors import Binner"
   ]
  },
  {
   "cell_type": "code",
   "execution_count": null,
   "id": "08f3e503-d86c-4004-877b-b49153c2d4cd",
   "metadata": {},
   "outputs": [],
   "source": [
    "data_binned = Binner(roi={'angle':(0,360,1),'horizontal':(0,2221,10)})(data)"
   ]
  },
  {
   "cell_type": "code",
   "execution_count": null,
   "id": "2df262e6-c376-4e41-b450-92138544ad97",
   "metadata": {},
   "outputs": [],
   "source": [
    "data_binned.shape"
   ]
  },
  {
   "cell_type": "code",
   "execution_count": null,
   "id": "4718bd71-0f16-4942-b3ee-d260c7940001",
   "metadata": {},
   "outputs": [],
   "source": [
    "show2D(data_binned)"
   ]
  },
  {
   "cell_type": "code",
   "execution_count": null,
   "id": "c75407e4-97ed-4a82-8325-466562ff1f19",
   "metadata": {},
   "outputs": [],
   "source": [
    "ag_b = data_binned.geometry"
   ]
  },
  {
   "cell_type": "code",
   "execution_count": null,
   "id": "d5e2de1f-38e4-421f-a03a-9391a10c96dc",
   "metadata": {},
   "outputs": [],
   "source": [
    "ig_b = ag_b.get_ImageGeometry()"
   ]
  },
  {
   "cell_type": "code",
   "execution_count": null,
   "id": "5ee3fc9f-c286-485b-9c79-3526f86a1c26",
   "metadata": {},
   "outputs": [],
   "source": [
    "AP_b = ProjectionOperator(ig_b,ag_b,device='cpu')\n",
    "cgls = CGLS(operator=AP_b, data=data_binned, tolerance=-1, max_iteration=1000)"
   ]
  },
  {
   "cell_type": "code",
   "execution_count": null,
   "id": "52aafcca-c2fa-4933-84c2-814e03ff5823",
   "metadata": {},
   "outputs": [],
   "source": [
    "cgls.run(17)"
   ]
  },
  {
   "cell_type": "code",
   "execution_count": null,
   "id": "13aec6f2-ee3c-442d-96bc-990b35e88561",
   "metadata": {},
   "outputs": [],
   "source": [
    "show2D(cgls.solution)"
   ]
  },
  {
   "cell_type": "code",
   "execution_count": null,
   "id": "1a25df57-14a3-45a2-a731-81bd78e896d9",
   "metadata": {},
   "outputs": [],
   "source": []
  }
 ],
 "metadata": {
  "kernelspec": {
   "display_name": "Python [conda env:cuqipycilastra] *",
   "language": "python",
   "name": "conda-env-cuqipycilastra-py"
  },
  "language_info": {
   "codemirror_mode": {
    "name": "ipython",
    "version": 3
   },
   "file_extension": ".py",
   "mimetype": "text/x-python",
   "name": "python",
   "nbconvert_exporter": "python",
   "pygments_lexer": "ipython3",
   "version": "3.9.13"
  }
 },
 "nbformat": 4,
 "nbformat_minor": 5
}
